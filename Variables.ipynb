{
  "nbformat": 4,
  "nbformat_minor": 0,
  "metadata": {
    "colab": {
      "private_outputs": true,
      "provenance": [],
      "collapsed_sections": [
        "ATLOcnM0sXtY",
        "CvTjYf2CrHDK",
        "Gp6QVEzXr9vb"
      ],
      "include_colab_link": true
    },
    "kernelspec": {
      "name": "python3",
      "display_name": "Python 3"
    }
  },
  "cells": [
    {
      "cell_type": "markdown",
      "metadata": {
        "id": "view-in-github",
        "colab_type": "text"
      },
      "source": [
        "<a href=\"https://colab.research.google.com/github/DominikaDomka/datasciencecoursera/blob/main/Variables.ipynb\" target=\"_parent\"><img src=\"https://colab.research.google.com/assets/colab-badge.svg\" alt=\"Open In Colab\"/></a>"
      ]
    },
    {
      "cell_type": "markdown",
      "metadata": {
        "id": "Ul64I7HrcC7g"
      },
      "source": [
        "# Variables"
      ]
    },
    {
      "cell_type": "code",
      "source": [
        "print('--------------------------------------------------')"
      ],
      "metadata": {
        "id": "a3s1CN8Wisvu"
      },
      "execution_count": null,
      "outputs": []
    },
    {
      "cell_type": "markdown",
      "metadata": {
        "id": "mV5WnfS6anIO"
      },
      "source": [
        "## Operators on strings\n",
        "\n",
        "In Python, the `*` and `+` operators are defined for strings.\n",
        "\n",
        "*Find out what they do.*"
      ]
    },
    {
      "cell_type": "code",
      "metadata": {
        "id": "4-YCNcadaiUK"
      },
      "source": [
        "test_string = \"Lorem ipsum\"\n",
        "\n",
        "# Your code here"
      ],
      "execution_count": null,
      "outputs": []
    },
    {
      "cell_type": "markdown",
      "metadata": {
        "id": "howBtiw6a-7K"
      },
      "source": [
        "*Using the [`print`](https://docs.python.org/3/library/functions.html#print) function, display a line of 50 dashes, like this one:*\n",
        "\n",
        "```\n",
        "--------------------------------------------------\n",
        "```"
      ]
    },
    {
      "cell_type": "code",
      "metadata": {
        "id": "VuotPTJYb3V0"
      },
      "source": [
        "print('--------------------------------------------------')"
      ],
      "execution_count": null,
      "outputs": []
    },
    {
      "cell_type": "markdown",
      "metadata": {
        "id": "ATLOcnM0sXtY"
      },
      "source": [
        "### Solution"
      ]
    },
    {
      "cell_type": "code",
      "metadata": {
        "id": "x8mEOq7RsYk3"
      },
      "source": [
        "print(\"-\" * 50)"
      ],
      "execution_count": null,
      "outputs": []
    },
    {
      "cell_type": "markdown",
      "metadata": {
        "id": "U_GTI_zQcrUQ"
      },
      "source": [
        "## Predicting the result of operations\n",
        "\n",
        "Without executing the code, try to predict the result of those operations:\n",
        "\n",
        "1. `(1 + 2) ** 3`\n",
        "2. `\"Da\" * 4`\n",
        "3. `\"Da\" + 3`\n",
        "4. `(\"Pa\" + \"La\") * 2`\n",
        "5. `(\"Da\" * 4) / 2`\n",
        "6. `\"Da\" + \"3\"`\n",
        "7. `5 / 2`\n",
        "8. `5 // 2`\n",
        "9. `5 % 2`"
      ]
    },
    {
      "cell_type": "markdown",
      "metadata": {
        "id": "LOhnj5kEd0cX"
      },
      "source": [
        "Your answer here:\n",
        "\n",
        "1. 27\n",
        "2. DaDaDaDa\n",
        "3. error\n",
        "4. PaLaPaLa\n",
        "5. error\n",
        "6. Da3\n",
        "7. 2.5\n",
        "8. 2\n",
        "9. 1"
      ]
    },
    {
      "cell_type": "markdown",
      "metadata": {
        "id": "CvTjYf2CrHDK"
      },
      "source": [
        "### Solution"
      ]
    },
    {
      "cell_type": "code",
      "metadata": {
        "id": "WlnaXHfYrGHa"
      },
      "source": [
        "print((1 + 2) ** 3)\n",
        "print(\"Da\" * 4)\n",
        "# print(\"Da\" + 3) would produce:\n",
        "# TypeError: must be str, not int\n",
        "print((\"Pa\" + \"La\") * 2)\n",
        "# print((\"Da\" * 4) / 2) would produce:\n",
        "# TypeError: unsupported operand type(s) for /: 'str' and 'int'  \n",
        "print(\"Da\" + \"3\")\n",
        "print(5 / 2)\n",
        "print(5 // 2)\n",
        "print(5 % 2)"
      ],
      "execution_count": null,
      "outputs": []
    },
    {
      "cell_type": "code",
      "source": [
        "print(5 % 2)\n"
      ],
      "metadata": {
        "id": "h2XW24tCkG0W"
      },
      "execution_count": null,
      "outputs": []
    },
    {
      "cell_type": "code",
      "source": [
        "print(\"Da\" + \"3\")"
      ],
      "metadata": {
        "id": "c2KQ06pxkAd2"
      },
      "execution_count": null,
      "outputs": []
    },
    {
      "cell_type": "markdown",
      "metadata": {
        "id": "vYA-HAm-dYAK"
      },
      "source": [
        "## Predicting the result of operations with type conversion\n",
        "\n",
        "Without executing the code, try to predict the result of those operations:\n",
        "\n",
        "1. `str(4) * int(\"3\")`\n",
        "2. `int(\"3\") * str(4)`\n",
        "3. `int(\"3\") + float(\"3.2\")`\n",
        "4. `str(4) * float(3)`\n",
        "5. `str(3 / 4) * 2`\n",
        "6. `str(42) * bool(42)`\n",
        "7. `bool(0) * str(42)`"
      ]
    },
    {
      "cell_type": "code",
      "source": [
        "print(bool(0) * str(42))"
      ],
      "metadata": {
        "id": "kFd29KWRmOy9"
      },
      "execution_count": null,
      "outputs": []
    },
    {
      "cell_type": "markdown",
      "metadata": {
        "id": "5FMAnoSGd3T_"
      },
      "source": [
        "Your answer here:\n",
        "\n",
        "1. 444\n",
        "2. 444\n",
        "3. 6.2\n",
        "4. \n",
        "5. 0.750.75\n",
        "6. 42\n",
        "7. error"
      ]
    },
    {
      "cell_type": "markdown",
      "metadata": {
        "id": "Gp6QVEzXr9vb"
      },
      "source": [
        "### Solution"
      ]
    },
    {
      "cell_type": "code",
      "metadata": {
        "id": "udPyNC9DsAS5"
      },
      "source": [
        "print(str(4) * int(\"3\"))\n",
        "print(int(\"3\") * str(4))\n",
        "print(int(\"3\") + float(\"3.2\"))\n",
        "# print(str(4) * float(3)) would produce :\n",
        "# TypeError: can't multiply sequence by non-int of type 'float'\n",
        "print(str(3 / 4) * 2)\n",
        "print(str(42) * bool(42))\n",
        "print(bool(0) * str(42))"
      ],
      "execution_count": null,
      "outputs": []
    },
    {
      "cell_type": "code",
      "source": [
        "print(str(3 / 4) * 2)"
      ],
      "metadata": {
        "id": "5sTMLzcjlKOO"
      },
      "execution_count": null,
      "outputs": []
    }
  ]
}